{
 "cells": [
  {
   "cell_type": "markdown",
   "metadata": {},
   "source": [
    "# WNS Analytics Wizard"
   ]
  },
  {
   "cell_type": "markdown",
   "metadata": {},
   "source": [
    "Importing libraries"
   ]
  },
  {
   "cell_type": "code",
   "execution_count": 55,
   "metadata": {},
   "outputs": [],
   "source": [
    "import numpy as np\n",
    "import pandas as pd\n",
    "from lightgbm import LGBMClassifier\n",
    "from sklearn.model_selection import train_test_split\n",
    "from sklearn.model_selection import GridSearchCV\n",
    "from sklearn.metrics import confusion_matrix\n",
    "from sklearn.metrics import roc_auc_score, roc_curve\n",
    "from sklearn.metrics import accuracy_score, f1_score, recall_score, precision_score\n",
    "import matplotlib.pyplot as plt\n",
    "\n",
    "import warnings\n",
    "warnings.filterwarnings('ignore')"
   ]
  },
  {
   "cell_type": "markdown",
   "metadata": {},
   "source": [
    "Creating useful functions"
   ]
  },
  {
   "cell_type": "code",
   "execution_count": 56,
   "metadata": {},
   "outputs": [],
   "source": [
    "def evaluate(actual, predicted, predicted_probability):\n",
    "    print(\"Confusion Matrix\")\n",
    "    print(pd.DataFrame(confusion_matrix(actual, predicted)))\n",
    "    print(\"\")\n",
    "    print(\"For Class 1\")\n",
    "    print(\"f1 Score :\", f1_score(actual, predicted))\n",
    "    print(\"Precision Score :\",precision_score(actual, predicted))\n",
    "    print(\"Recall Score :\",recall_score(actual, predicted))\n",
    "    print(\"\")\n",
    "    print(\"For Class 0\")\n",
    "    print(\"f1 Score :\", f1_score(1-np.array(actual), 1-np.array(predicted)))\n",
    "    print(\"Precision Score :\",precision_score(1-np.array(actual), 1-np.array(predicted)))\n",
    "    print(\"Recall Score :\",recall_score(1-np.array(actual), 1-np.array(predicted)))\n",
    "    print(\"\")\n",
    "    print(\"AUROC :\",  roc_auc_score(actual, predicted_probability[:,1]))"
   ]
  },
  {
   "cell_type": "code",
   "execution_count": 57,
   "metadata": {},
   "outputs": [],
   "source": [
    "def plot_roc(y_test, y_pred):\n",
    "    fpr, tpr, thresholds = roc_curve(y_test, y_pred)\n",
    "    _ = plt.title('ROC')\n",
    "    _ = plt.plot(fpr, tpr, 'b')\n",
    "#     _ = plt.plot([0, 1], [0, 1],'r--', alpha=0.2)\n",
    "    _ = plt.xlim([0, 1])\n",
    "    _ = plt.ylim([0, 1])\n",
    "    _ = plt.ylabel('True Positive Rate')\n",
    "    _ = plt.xlabel('False Positive Rate')\n",
    "    plt.show()"
   ]
  },
  {
   "cell_type": "code",
   "execution_count": 58,
   "metadata": {},
   "outputs": [],
   "source": [
    "def generate_submission(impression_ids, is_clicks, method_name):\n",
    "    submission_frame = pd.DataFrame(is_clicks, index=impression_ids)\n",
    "    submission_frame.columns = ['is_click']\n",
    "    submission_frame.index.name = 'impression_id'\n",
    "    submission_frame.to_csv('data/test/'+method_name+'.csv')"
   ]
  },
  {
   "cell_type": "code",
   "execution_count": 59,
   "metadata": {},
   "outputs": [],
   "source": [
    "def flow(X, y, training_func, X_future, y_future_ids):\n",
    "    X_train, X_test, y_train, y_test = train_test_split(X, y, random_state=2019)\n",
    "    \n",
    "    model = training_func(X_train, y_train)\n",
    "    \n",
    "    y_pred = model.predict(X_test)\n",
    "    y_pred_prob = model.predict_proba(X_test)\n",
    "    evaluate(y_test, y_pred, y_pred_prob)\n",
    "    plot_roc(y_test, y_pred)\n",
    "    \n",
    "    y_future_pred = model.predict_proba(X_future)[:,1]\n",
    "    generate_submission(y_future_ids, y_future_pred, training_func.__name__)\n",
    "    \n",
    "    return X_test, y_test, y_pred\n",
    "    "
   ]
  },
  {
   "cell_type": "markdown",
   "metadata": {},
   "source": [
    " "
   ]
  },
  {
   "cell_type": "markdown",
   "metadata": {},
   "source": [
    " "
   ]
  },
  {
   "cell_type": "code",
   "execution_count": 68,
   "metadata": {},
   "outputs": [],
   "source": [
    "feature_cols = ['app_code','os_version','app_click_ratio','overall_click_ratio','max_price','min_price',\n",
    "                'total_items','total_unique_items','total_sessions','freq_product_type','freq_device',\n",
    "                'freq_category_1','freq_category_2','freq_category_3']\n",
    "category_cols = [0,1,9,10,11,12,13]"
   ]
  },
  {
   "cell_type": "code",
   "execution_count": 69,
   "metadata": {},
   "outputs": [
    {
     "data": {
      "text/plain": [
       "array([[4.220e+02, 0.000e+00, 0.000e+00, 0.000e+00, 2.350e+03, 2.350e+03,\n",
       "        1.000e+00, 1.000e+00, 1.000e+00, 5.622e+03, 0.000e+00, 1.100e+01,\n",
       "        3.500e+01, 2.000e+01]])"
      ]
     },
     "execution_count": 69,
     "metadata": {},
     "output_type": "execute_result"
    }
   ],
   "source": [
    "# Reading Training Data\n",
    "training_df = pd.read_csv('data/train/train_with_feature.csv', index_col='impression_id')\n",
    "X = training_df[feature_cols].values\n",
    "y = training_df['is_click'].values\n",
    "X[:1]"
   ]
  },
  {
   "cell_type": "code",
   "execution_count": 70,
   "metadata": {},
   "outputs": [
    {
     "data": {
      "text/plain": [
       "(90675, 14)"
      ]
     },
     "execution_count": 70,
     "metadata": {},
     "output_type": "execute_result"
    }
   ],
   "source": [
    "testing_df = pd.read_csv('data/test/test_with_feature.csv', index_col='impression_id')\n",
    "X_future = testing_df[feature_cols].values\n",
    "y_future_ids = testing_df.index.values\n",
    "X_future.shape"
   ]
  },
  {
   "cell_type": "markdown",
   "metadata": {},
   "source": [
    " "
   ]
  },
  {
   "cell_type": "markdown",
   "metadata": {},
   "source": [
    " "
   ]
  },
  {
   "cell_type": "markdown",
   "metadata": {},
   "source": [
    "## Trying LightGBM"
   ]
  },
  {
   "cell_type": "code",
   "execution_count": 71,
   "metadata": {},
   "outputs": [
    {
     "name": "stdout",
     "output_type": "stream",
     "text": [
      "best_estimator LGBMClassifier(boosting_type='gbdt', class_weight=None, colsample_bytree=1.0,\n",
      "               eval_metric='auc', importance_type='split', learning_rate=0.1,\n",
      "               max_depth=4, min_child_samples=20, min_child_weight=0.001,\n",
      "               min_data_in_leaf=33, min_split_gain=0.0, n_estimators=100,\n",
      "               n_jobs=-1, num_leaves=14, objective=None, random_state=2019,\n",
      "               reg_alpha=0.0, reg_lambda=0.0, silent=True, subsample=1.0,\n",
      "               subsample_for_bin=200000, subsample_freq=0)\n",
      "best_score 0.7244867703075555\n",
      "Confusion Matrix\n",
      "       0  1\n",
      "0  56615  4\n",
      "1   2781  3\n",
      "\n",
      "For Class 1\n",
      "f1 Score : 0.002149767108563239\n",
      "Precision Score : 0.42857142857142855\n",
      "Recall Score : 0.0010775862068965517\n",
      "\n",
      "For Class 0\n",
      "f1 Score : 0.9759944834719648\n",
      "Precision Score : 0.9531786652299818\n",
      "Recall Score : 0.9999293523375545\n",
      "\n",
      "AUROC : 0.7198295052907588\n"
     ]
    },
    {
     "data": {
      "image/png": "[encoded data removed]",
      "text/plain": [
       "<Figure size 432x288 with 1 Axes>"
      ]
     },
     "metadata": {
      "needs_background": "light"
     },
     "output_type": "display_data"
    }
   ],
   "source": [
    "def tunned_light_gbm_ratio(X_train, y_train):\n",
    "    lgb = LGBMClassifier(eval_metric = 'auc',random_state=2019)\n",
    "    params = {\n",
    "        'num_leaves': [14, 16, 18],\n",
    "        'max_depth': [4],\n",
    "        'min_data_in_leaf': [33, 35, 37]\n",
    "    }\n",
    "    lgb_grid = GridSearchCV(lgb, params, cv=10, scoring='roc_auc')\n",
    "    lgb_grid.fit(X_train, y_train, categorical_feature=category_cols)\n",
    "    print('best_estimator', lgb_grid.best_estimator_)\n",
    "    print('best_score', lgb_grid.best_score_)\n",
    "    return lgb_grid.best_estimator_\n",
    "\n",
    "X_test, y_test, y_pred = flow(X, y, tunned_light_gbm_ratio, X_future, y_future_ids)"
   ]
  },
  {
   "cell_type": "code",
   "execution_count": 16,
   "metadata": {},
   "outputs": [
    {
     "data": {
      "text/html": [
       "<div>\n",
       "<style scoped>\n",
       "    .dataframe tbody tr th:only-of-type {\n",
       "        vertical-align: middle;\n",
       "    }\n",
       "\n",
       "    .dataframe tbody tr th {\n",
       "        vertical-align: top;\n",
       "    }\n",
       "\n",
       "    .dataframe thead th {\n",
       "        text-align: right;\n",
       "    }\n",
       "</style>\n",
       "<table border=\"1\" class=\"dataframe\">\n",
       "  <thead>\n",
       "    <tr style=\"text-align: right;\">\n",
       "      <th></th>\n",
       "      <th>app_code</th>\n",
       "      <th>os_version</th>\n",
       "      <th>click_ratio</th>\n",
       "      <th>expected</th>\n",
       "      <th>actual</th>\n",
       "    </tr>\n",
       "  </thead>\n",
       "  <tbody>\n",
       "    <tr>\n",
       "      <th>0</th>\n",
       "      <td>283.0</td>\n",
       "      <td>2.0</td>\n",
       "      <td>0.0</td>\n",
       "      <td>0</td>\n",
       "      <td>0</td>\n",
       "    </tr>\n",
       "    <tr>\n",
       "      <th>1</th>\n",
       "      <td>285.0</td>\n",
       "      <td>0.0</td>\n",
       "      <td>0.0</td>\n",
       "      <td>0</td>\n",
       "      <td>0</td>\n",
       "    </tr>\n",
       "    <tr>\n",
       "      <th>2</th>\n",
       "      <td>213.0</td>\n",
       "      <td>1.0</td>\n",
       "      <td>0.0</td>\n",
       "      <td>0</td>\n",
       "      <td>0</td>\n",
       "    </tr>\n",
       "    <tr>\n",
       "      <th>3</th>\n",
       "      <td>129.0</td>\n",
       "      <td>2.0</td>\n",
       "      <td>0.0</td>\n",
       "      <td>0</td>\n",
       "      <td>0</td>\n",
       "    </tr>\n",
       "    <tr>\n",
       "      <th>4</th>\n",
       "      <td>213.0</td>\n",
       "      <td>2.0</td>\n",
       "      <td>0.0</td>\n",
       "      <td>0</td>\n",
       "      <td>0</td>\n",
       "    </tr>\n",
       "  </tbody>\n",
       "</table>\n",
       "</div>"
      ],
      "text/plain": [
       "   app_code  os_version  click_ratio  expected  actual\n",
       "0     283.0         2.0          0.0         0       0\n",
       "1     285.0         0.0          0.0         0       0\n",
       "2     213.0         1.0          0.0         0       0\n",
       "3     129.0         2.0          0.0         0       0\n",
       "4     213.0         2.0          0.0         0       0"
      ]
     },
     "execution_count": 16,
     "metadata": {},
     "output_type": "execute_result"
    }
   ],
   "source": [
    "validate_test_df = pd.DataFrame(X_test)\n",
    "validate_test_df.columns = ['os_version','click_ratio']\n",
    "validate_test_df['expected'] = y_test\n",
    "validate_test_df['actual'] = y_pred\n",
    "validate_test_df.head()"
   ]
  },
  {
   "cell_type": "code",
   "execution_count": 21,
   "metadata": {},
   "outputs": [
    {
     "data": {
      "text/html": [
       "<div>\n",
       "<style scoped>\n",
       "    .dataframe tbody tr th:only-of-type {\n",
       "        vertical-align: middle;\n",
       "    }\n",
       "\n",
       "    .dataframe tbody tr th {\n",
       "        vertical-align: top;\n",
       "    }\n",
       "\n",
       "    .dataframe thead th {\n",
       "        text-align: right;\n",
       "    }\n",
       "</style>\n",
       "<table border=\"1\" class=\"dataframe\">\n",
       "  <thead>\n",
       "    <tr style=\"text-align: right;\">\n",
       "      <th></th>\n",
       "      <th>app_code</th>\n",
       "      <th>os_version</th>\n",
       "      <th>click_ratio</th>\n",
       "      <th>expected</th>\n",
       "      <th>actual</th>\n",
       "    </tr>\n",
       "  </thead>\n",
       "  <tbody>\n",
       "    <tr>\n",
       "      <th>18</th>\n",
       "      <td>213.0</td>\n",
       "      <td>0.0</td>\n",
       "      <td>0.0</td>\n",
       "      <td>1</td>\n",
       "      <td>0</td>\n",
       "    </tr>\n",
       "    <tr>\n",
       "      <th>72</th>\n",
       "      <td>296.0</td>\n",
       "      <td>1.0</td>\n",
       "      <td>0.0</td>\n",
       "      <td>1</td>\n",
       "      <td>0</td>\n",
       "    </tr>\n",
       "    <tr>\n",
       "      <th>81</th>\n",
       "      <td>508.0</td>\n",
       "      <td>1.0</td>\n",
       "      <td>0.0</td>\n",
       "      <td>1</td>\n",
       "      <td>0</td>\n",
       "    </tr>\n",
       "    <tr>\n",
       "      <th>88</th>\n",
       "      <td>242.0</td>\n",
       "      <td>1.0</td>\n",
       "      <td>0.0</td>\n",
       "      <td>1</td>\n",
       "      <td>0</td>\n",
       "    </tr>\n",
       "    <tr>\n",
       "      <th>136</th>\n",
       "      <td>207.0</td>\n",
       "      <td>1.0</td>\n",
       "      <td>0.0</td>\n",
       "      <td>1</td>\n",
       "      <td>0</td>\n",
       "    </tr>\n",
       "  </tbody>\n",
       "</table>\n",
       "</div>"
      ],
      "text/plain": [
       "     app_code  os_version  click_ratio  expected  actual\n",
       "18      213.0         0.0          0.0         1       0\n",
       "72      296.0         1.0          0.0         1       0\n",
       "81      508.0         1.0          0.0         1       0\n",
       "88      242.0         1.0          0.0         1       0\n",
       "136     207.0         1.0          0.0         1       0"
      ]
     },
     "execution_count": 21,
     "metadata": {},
     "output_type": "execute_result"
    }
   ],
   "source": [
    "mismatch = validate_test_df[validate_test_df.expected != validate_test_df.actual]\n",
    "mismatch.head()"
   ]
  },
  {
   "cell_type": "code",
   "execution_count": 23,
   "metadata": {},
   "outputs": [
    {
     "data": {
      "text/html": [
       "<div>\n",
       "<style scoped>\n",
       "    .dataframe tbody tr th:only-of-type {\n",
       "        vertical-align: middle;\n",
       "    }\n",
       "\n",
       "    .dataframe tbody tr th {\n",
       "        vertical-align: top;\n",
       "    }\n",
       "\n",
       "    .dataframe thead th {\n",
       "        text-align: right;\n",
       "    }\n",
       "</style>\n",
       "<table border=\"1\" class=\"dataframe\">\n",
       "  <thead>\n",
       "    <tr style=\"text-align: right;\">\n",
       "      <th></th>\n",
       "      <th>app_code</th>\n",
       "      <th>os_version</th>\n",
       "      <th>click_ratio</th>\n",
       "      <th>expected</th>\n",
       "      <th>actual</th>\n",
       "    </tr>\n",
       "  </thead>\n",
       "  <tbody>\n",
       "    <tr>\n",
       "      <th>0</th>\n",
       "      <td>283.0</td>\n",
       "      <td>2.0</td>\n",
       "      <td>0.0</td>\n",
       "      <td>0</td>\n",
       "      <td>0</td>\n",
       "    </tr>\n",
       "    <tr>\n",
       "      <th>1</th>\n",
       "      <td>285.0</td>\n",
       "      <td>0.0</td>\n",
       "      <td>0.0</td>\n",
       "      <td>0</td>\n",
       "      <td>0</td>\n",
       "    </tr>\n",
       "    <tr>\n",
       "      <th>2</th>\n",
       "      <td>213.0</td>\n",
       "      <td>1.0</td>\n",
       "      <td>0.0</td>\n",
       "      <td>0</td>\n",
       "      <td>0</td>\n",
       "    </tr>\n",
       "    <tr>\n",
       "      <th>3</th>\n",
       "      <td>129.0</td>\n",
       "      <td>2.0</td>\n",
       "      <td>0.0</td>\n",
       "      <td>0</td>\n",
       "      <td>0</td>\n",
       "    </tr>\n",
       "    <tr>\n",
       "      <th>4</th>\n",
       "      <td>213.0</td>\n",
       "      <td>2.0</td>\n",
       "      <td>0.0</td>\n",
       "      <td>0</td>\n",
       "      <td>0</td>\n",
       "    </tr>\n",
       "  </tbody>\n",
       "</table>\n",
       "</div>"
      ],
      "text/plain": [
       "   app_code  os_version  click_ratio  expected  actual\n",
       "0     283.0         2.0          0.0         0       0\n",
       "1     285.0         0.0          0.0         0       0\n",
       "2     213.0         1.0          0.0         0       0\n",
       "3     129.0         2.0          0.0         0       0\n",
       "4     213.0         2.0          0.0         0       0"
      ]
     },
     "execution_count": 23,
     "metadata": {},
     "output_type": "execute_result"
    }
   ],
   "source": [
    "not_mismatch = validate_test_df[validate_test_df.expected == validate_test_df.actual]\n",
    "not_mismatch.head()"
   ]
  },
  {
   "cell_type": "code",
   "execution_count": 29,
   "metadata": {},
   "outputs": [
    {
     "data": {
      "text/plain": [
       "190.0    189\n",
       "371.0    175\n",
       "127.0    155\n",
       "244.0    140\n",
       "296.0    140\n",
       "        ... \n",
       "259.0      6\n",
       "443.0      6\n",
       "120.0      6\n",
       "424.0      6\n",
       "390.0      6\n",
       "Name: app_code, Length: 66, dtype: int64"
      ]
     },
     "execution_count": 29,
     "metadata": {},
     "output_type": "execute_result"
    }
   ],
   "source": [
    "mismatch_app_code_count = mismatch.app_code.value_counts()\n",
    "mismatch_app_code_count[mismatch_app_code_count > 5]"
   ]
  },
  {
   "cell_type": "code",
   "execution_count": 27,
   "metadata": {},
   "outputs": [
    {
     "data": {
      "text/plain": [
       "207    33788\n",
       "386    30706\n",
       "190    17441\n",
       "127    10851\n",
       "371     9343\n",
       "       ...  \n",
       "210        6\n",
       "161        6\n",
       "406        6\n",
       "55         6\n",
       "191        6\n",
       "Name: app_code, Length: 301, dtype: int64"
      ]
     },
     "execution_count": 27,
     "metadata": {},
     "output_type": "execute_result"
    }
   ],
   "source": [
    "app_code_count = training_df.app_code.value_counts()\n",
    "app_code_count[app_code_count > 5]"
   ]
  },
  {
   "cell_type": "code",
   "execution_count": 18,
   "metadata": {},
   "outputs": [
    {
     "data": {
      "text/html": [
       "<div>\n",
       "<style scoped>\n",
       "    .dataframe tbody tr th:only-of-type {\n",
       "        vertical-align: middle;\n",
       "    }\n",
       "\n",
       "    .dataframe tbody tr th {\n",
       "        vertical-align: top;\n",
       "    }\n",
       "\n",
       "    .dataframe thead th {\n",
       "        text-align: right;\n",
       "    }\n",
       "</style>\n",
       "<table border=\"1\" class=\"dataframe\">\n",
       "  <thead>\n",
       "    <tr style=\"text-align: right;\">\n",
       "      <th></th>\n",
       "      <th>app_code</th>\n",
       "      <th>os_version</th>\n",
       "      <th>click_ratio</th>\n",
       "      <th>expected</th>\n",
       "      <th>actual</th>\n",
       "    </tr>\n",
       "  </thead>\n",
       "  <tbody>\n",
       "    <tr>\n",
       "      <th>5145</th>\n",
       "      <td>275.0</td>\n",
       "      <td>1.0</td>\n",
       "      <td>0.666667</td>\n",
       "      <td>0</td>\n",
       "      <td>1</td>\n",
       "    </tr>\n",
       "    <tr>\n",
       "      <th>20117</th>\n",
       "      <td>275.0</td>\n",
       "      <td>1.0</td>\n",
       "      <td>0.466667</td>\n",
       "      <td>0</td>\n",
       "      <td>1</td>\n",
       "    </tr>\n",
       "    <tr>\n",
       "      <th>52145</th>\n",
       "      <td>275.0</td>\n",
       "      <td>1.0</td>\n",
       "      <td>0.437500</td>\n",
       "      <td>0</td>\n",
       "      <td>1</td>\n",
       "    </tr>\n",
       "  </tbody>\n",
       "</table>\n",
       "</div>"
      ],
      "text/plain": [
       "       app_code  os_version  click_ratio  expected  actual\n",
       "5145      275.0         1.0     0.666667         0       1\n",
       "20117     275.0         1.0     0.466667         0       1\n",
       "52145     275.0         1.0     0.437500         0       1"
      ]
     },
     "execution_count": 18,
     "metadata": {},
     "output_type": "execute_result"
    }
   ],
   "source": [
    "false_positive[false_positive.app_code==275]"
   ]
  },
  {
   "cell_type": "code",
   "execution_count": 95,
   "metadata": {},
   "outputs": [
    {
     "data": {
      "text/html": [
       "<div>\n",
       "<style scoped>\n",
       "    .dataframe tbody tr th:only-of-type {\n",
       "        vertical-align: middle;\n",
       "    }\n",
       "\n",
       "    .dataframe tbody tr th {\n",
       "        vertical-align: top;\n",
       "    }\n",
       "\n",
       "    .dataframe thead th {\n",
       "        text-align: right;\n",
       "    }\n",
       "</style>\n",
       "<table border=\"1\" class=\"dataframe\">\n",
       "  <thead>\n",
       "    <tr style=\"text-align: right;\">\n",
       "      <th></th>\n",
       "      <th>impression_time</th>\n",
       "      <th>user_id</th>\n",
       "      <th>app_code</th>\n",
       "      <th>os_version</th>\n",
       "      <th>is_4G</th>\n",
       "      <th>is_click</th>\n",
       "      <th>click_ratio</th>\n",
       "    </tr>\n",
       "    <tr>\n",
       "      <th>impression_id</th>\n",
       "      <th></th>\n",
       "      <th></th>\n",
       "      <th></th>\n",
       "      <th></th>\n",
       "      <th></th>\n",
       "      <th></th>\n",
       "      <th></th>\n",
       "    </tr>\n",
       "  </thead>\n",
       "  <tbody>\n",
       "    <tr>\n",
       "      <th>9f1f64b519d20e2ccc36e1589a8f7555</th>\n",
       "      <td>2018-11-15 11:09:00</td>\n",
       "      <td>52382</td>\n",
       "      <td>207</td>\n",
       "      <td>2</td>\n",
       "      <td>0</td>\n",
       "      <td>0</td>\n",
       "      <td>0.0</td>\n",
       "    </tr>\n",
       "    <tr>\n",
       "      <th>a41b3bb3e6b050b6c9067c67f663b915</th>\n",
       "      <td>2018-11-15 09:02:00</td>\n",
       "      <td>52382</td>\n",
       "      <td>207</td>\n",
       "      <td>2</td>\n",
       "      <td>0</td>\n",
       "      <td>0</td>\n",
       "      <td>0.0</td>\n",
       "    </tr>\n",
       "    <tr>\n",
       "      <th>c2eeaacb03e0bb62d5ffb626a9a3b79d</th>\n",
       "      <td>2018-11-23 16:04:00</td>\n",
       "      <td>52382</td>\n",
       "      <td>207</td>\n",
       "      <td>2</td>\n",
       "      <td>0</td>\n",
       "      <td>0</td>\n",
       "      <td>0.0</td>\n",
       "    </tr>\n",
       "    <tr>\n",
       "      <th>d6a65c9d345483ae4a545c748c66c9de</th>\n",
       "      <td>2018-11-27 08:59:00</td>\n",
       "      <td>52382</td>\n",
       "      <td>207</td>\n",
       "      <td>2</td>\n",
       "      <td>0</td>\n",
       "      <td>1</td>\n",
       "      <td>0.0</td>\n",
       "    </tr>\n",
       "  </tbody>\n",
       "</table>\n",
       "</div>"
      ],
      "text/plain": [
       "                                     impression_time  user_id  app_code  \\\n",
       "impression_id                                                             \n",
       "9f1f64b519d20e2ccc36e1589a8f7555 2018-11-15 11:09:00    52382       207   \n",
       "a41b3bb3e6b050b6c9067c67f663b915 2018-11-15 09:02:00    52382       207   \n",
       "c2eeaacb03e0bb62d5ffb626a9a3b79d 2018-11-23 16:04:00    52382       207   \n",
       "d6a65c9d345483ae4a545c748c66c9de 2018-11-27 08:59:00    52382       207   \n",
       "\n",
       "                                  os_version  is_4G  is_click  click_ratio  \n",
       "impression_id                                                               \n",
       "9f1f64b519d20e2ccc36e1589a8f7555           2      0         0          0.0  \n",
       "a41b3bb3e6b050b6c9067c67f663b915           2      0         0          0.0  \n",
       "c2eeaacb03e0bb62d5ffb626a9a3b79d           2      0         0          0.0  \n",
       "d6a65c9d345483ae4a545c748c66c9de           2      0         1          0.0  "
      ]
     },
     "execution_count": 95,
     "metadata": {},
     "output_type": "execute_result"
    }
   ],
   "source": [
    "training_df[(training_df.user_id==52382) & (training_df.click_ratio==0.0) & (training_df.app_code==207)]"
   ]
  },
  {
   "cell_type": "code",
   "execution_count": 54,
   "metadata": {},
   "outputs": [
    {
     "data": {
      "text/plain": [
       "0.3333333333333333"
      ]
     },
     "execution_count": 54,
     "metadata": {},
     "output_type": "execute_result"
    }
   ],
   "source": [
    "previous_record = time_series_user_data.loc[(52737, 32), :][:'2018-11-30 11:52:00'][:-1]\n",
    "total_ads = previous_record.shape[0]\n",
    "total_clicks = previous_record.is_click.sum()\n",
    "(total_clicks / total_ads) if total_ads != 0 else 0.0"
   ]
  }
 ],
 "metadata": {
  "kernelspec": {
   "display_name": "Python 3",
   "language": "python",
   "name": "python3"
  },
  "language_info": {
   "codemirror_mode": {
    "name": "ipython",
    "version": 3
   },
   "file_extension": ".py",
   "mimetype": "text/x-python",
   "name": "python",
   "nbconvert_exporter": "python",
   "pygments_lexer": "ipython3",
   "version": "3.7.4"
  }
 },
 "nbformat": 4,
 "nbformat_minor": 2
}
