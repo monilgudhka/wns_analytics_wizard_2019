{
 "cells": [
  {
   "cell_type": "markdown",
   "metadata": {},
   "source": [
    "# WNS Analytics Wizard"
   ]
  },
  {
   "cell_type": "markdown",
   "metadata": {},
   "source": [
    "Importing libraries"
   ]
  },
  {
   "cell_type": "code",
   "execution_count": 1,
   "metadata": {},
   "outputs": [],
   "source": [
    "import numpy as np\n",
    "import pandas as pd\n",
    "from lightgbm import LGBMClassifier\n",
    "from sklearn.model_selection import train_test_split\n",
    "from sklearn.model_selection import GridSearchCV\n",
    "from sklearn.metrics import confusion_matrix\n",
    "from sklearn.metrics import roc_auc_score, roc_curve\n",
    "from sklearn.metrics import accuracy_score, f1_score, recall_score, precision_score\n",
    "import matplotlib.pyplot as plt"
   ]
  },
  {
   "cell_type": "markdown",
   "metadata": {},
   "source": [
    "Creating useful functions"
   ]
  },
  {
   "cell_type": "code",
   "execution_count": 2,
   "metadata": {},
   "outputs": [],
   "source": [
    "def evaluate(actual, predicted, predicted_probability):\n",
    "    print(\"Confusion Matrix\")\n",
    "    print(pd.DataFrame(confusion_matrix(actual, predicted)))\n",
    "    print(\"\")\n",
    "    print(\"For Class 1\")\n",
    "    print(\"f1 Score :\", f1_score(actual, predicted))\n",
    "    print(\"Precision Score :\",precision_score(actual, predicted))\n",
    "    print(\"Recall Score :\",recall_score(actual, predicted))\n",
    "    print(\"\")\n",
    "    print(\"For Class 0\")\n",
    "    print(\"f1 Score :\", f1_score(1-np.array(actual), 1-np.array(predicted)))\n",
    "    print(\"Precision Score :\",precision_score(1-np.array(actual), 1-np.array(predicted)))\n",
    "    print(\"Recall Score :\",recall_score(1-np.array(actual), 1-np.array(predicted)))\n",
    "    print(\"\")\n",
    "    print(\"AUROC :\",  roc_auc_score(actual, predicted_probability[:,1]))"
   ]
  },
  {
   "cell_type": "code",
   "execution_count": 3,
   "metadata": {},
   "outputs": [],
   "source": [
    "def plot_roc(y_test, y_pred):\n",
    "    fpr, tpr, thresholds = roc_curve(y_test, y_pred)\n",
    "    _ = plt.title('ROC')\n",
    "    _ = plt.plot(fpr, tpr, 'b', alpha=0.2)\n",
    "#     _ = plt.plot([0, 1], [0, 1],'r--', alpha=0.2)\n",
    "    _ = plt.xlim([0, 1])\n",
    "    _ = plt.ylim([0, 1])\n",
    "    _ = plt.ylabel('True Positive Rate')\n",
    "    _ = plt.xlabel('False Positive Rate')\n",
    "    plt.show()"
   ]
  },
  {
   "cell_type": "code",
   "execution_count": 4,
   "metadata": {},
   "outputs": [],
   "source": [
    "def generate_submission(impression_ids, is_clicks, method_name):\n",
    "    submission_frame = pd.DataFrame(is_clicks, index=impression_ids)\n",
    "    submission_frame.columns = ['is_click']\n",
    "    submission_frame.index.name = 'impression_id'\n",
    "    print(submission_frame.head())\n",
    "    submission_frame.to_csv('data/test/'+method_name+'.csv')"
   ]
  },
  {
   "cell_type": "code",
   "execution_count": 5,
   "metadata": {},
   "outputs": [],
   "source": [
    "def flow(X, y, training_func, X_future, y_future_ids):\n",
    "    X_train, X_test, y_train, y_test = train_test_split(X, y, random_state=5)\n",
    "    \n",
    "    model = training_func(X_train, y_train)\n",
    "    \n",
    "    y_pred = model.predict(X_test)\n",
    "    y_pred_prob = model.predict_proba(X_test)\n",
    "    evaluate(y_test, y_pred, y_pred_prob)\n",
    "    plot_roc(y_test, y_pred)\n",
    "    \n",
    "    y_future_pred = model.predict(X_future)\n",
    "    generate_submission(y_future_ids, y_future_pred, training_func.__name__)\n",
    "    "
   ]
  },
  {
   "cell_type": "markdown",
   "metadata": {},
   "source": [
    " "
   ]
  },
  {
   "cell_type": "markdown",
   "metadata": {},
   "source": [
    " "
   ]
  },
  {
   "cell_type": "markdown",
   "metadata": {},
   "source": [
    "## Data Wrangling User details"
   ]
  },
  {
   "cell_type": "code",
   "execution_count": 26,
   "metadata": {},
   "outputs": [
    {
     "data": {
      "text/html": [
       "<div>\n",
       "<style scoped>\n",
       "    .dataframe tbody tr th:only-of-type {\n",
       "        vertical-align: middle;\n",
       "    }\n",
       "\n",
       "    .dataframe tbody tr th {\n",
       "        vertical-align: top;\n",
       "    }\n",
       "\n",
       "    .dataframe thead th {\n",
       "        text-align: right;\n",
       "    }\n",
       "</style>\n",
       "<table border=\"1\" class=\"dataframe\">\n",
       "  <thead>\n",
       "    <tr style=\"text-align: right;\">\n",
       "      <th></th>\n",
       "      <th>item_price</th>\n",
       "      <th>category_1</th>\n",
       "      <th>category_2</th>\n",
       "      <th>category_3</th>\n",
       "      <th>product_type</th>\n",
       "    </tr>\n",
       "    <tr>\n",
       "      <th>item_id</th>\n",
       "      <th></th>\n",
       "      <th></th>\n",
       "      <th></th>\n",
       "      <th></th>\n",
       "      <th></th>\n",
       "    </tr>\n",
       "  </thead>\n",
       "  <tbody>\n",
       "    <tr>\n",
       "      <th>26880</th>\n",
       "      <td>4602</td>\n",
       "      <td>11</td>\n",
       "      <td>35</td>\n",
       "      <td>20</td>\n",
       "      <td>3040</td>\n",
       "    </tr>\n",
       "    <tr>\n",
       "      <th>54939</th>\n",
       "      <td>3513</td>\n",
       "      <td>12</td>\n",
       "      <td>57</td>\n",
       "      <td>85</td>\n",
       "      <td>6822</td>\n",
       "    </tr>\n",
       "    <tr>\n",
       "      <th>40383</th>\n",
       "      <td>825</td>\n",
       "      <td>17</td>\n",
       "      <td>8</td>\n",
       "      <td>279</td>\n",
       "      <td>1619</td>\n",
       "    </tr>\n",
       "    <tr>\n",
       "      <th>8777</th>\n",
       "      <td>2355</td>\n",
       "      <td>13</td>\n",
       "      <td>58</td>\n",
       "      <td>189</td>\n",
       "      <td>5264</td>\n",
       "    </tr>\n",
       "    <tr>\n",
       "      <th>113705</th>\n",
       "      <td>1267</td>\n",
       "      <td>17</td>\n",
       "      <td>39</td>\n",
       "      <td>151</td>\n",
       "      <td>10239</td>\n",
       "    </tr>\n",
       "  </tbody>\n",
       "</table>\n",
       "</div>"
      ],
      "text/plain": [
       "         item_price  category_1  category_2  category_3  product_type\n",
       "item_id                                                              \n",
       "26880          4602          11          35          20          3040\n",
       "54939          3513          12          57          85          6822\n",
       "40383           825          17           8         279          1619\n",
       "8777           2355          13          58         189          5264\n",
       "113705         1267          17          39         151         10239"
      ]
     },
     "execution_count": 26,
     "metadata": {},
     "output_type": "execute_result"
    }
   ],
   "source": [
    "# Read Items\n",
    "item_df = pd.read_csv('data/train/item_data.csv', index_col='item_id')\n",
    "item_df.head()"
   ]
  },
  {
   "cell_type": "code",
   "execution_count": 36,
   "metadata": {},
   "outputs": [
    {
     "data": {
      "text/plain": [
       "(3118622, 5)"
      ]
     },
     "execution_count": 36,
     "metadata": {},
     "output_type": "execute_result"
    }
   ],
   "source": [
    "# Reading view logs\n",
    "view_log_df = pd.read_csv('data/train/view_log.csv', parse_dates=['server_time'])\n",
    "view_log_df.device_type = view_log_df.device_type.astype('category')\n",
    "view_log_df.head()"
   ]
  },
  {
   "cell_type": "code",
   "execution_count": 39,
   "metadata": {},
   "outputs": [
    {
     "data": {
      "text/html": [
       "<div>\n",
       "<style scoped>\n",
       "    .dataframe tbody tr th:only-of-type {\n",
       "        vertical-align: middle;\n",
       "    }\n",
       "\n",
       "    .dataframe tbody tr th {\n",
       "        vertical-align: top;\n",
       "    }\n",
       "\n",
       "    .dataframe thead th {\n",
       "        text-align: right;\n",
       "    }\n",
       "</style>\n",
       "<table border=\"1\" class=\"dataframe\">\n",
       "  <thead>\n",
       "    <tr style=\"text-align: right;\">\n",
       "      <th></th>\n",
       "      <th>server_time</th>\n",
       "      <th>device_type</th>\n",
       "      <th>session_id</th>\n",
       "      <th>user_id</th>\n",
       "      <th>item_id</th>\n",
       "      <th>item_price</th>\n",
       "      <th>category_1</th>\n",
       "      <th>category_2</th>\n",
       "      <th>category_3</th>\n",
       "      <th>product_type</th>\n",
       "    </tr>\n",
       "  </thead>\n",
       "  <tbody>\n",
       "    <tr>\n",
       "      <th>0</th>\n",
       "      <td>2018-10-15 08:58:00</td>\n",
       "      <td>android</td>\n",
       "      <td>112333</td>\n",
       "      <td>4557</td>\n",
       "      <td>32970</td>\n",
       "      <td>54685</td>\n",
       "      <td>16</td>\n",
       "      <td>56</td>\n",
       "      <td>253</td>\n",
       "      <td>3184</td>\n",
       "    </tr>\n",
       "    <tr>\n",
       "      <th>1</th>\n",
       "      <td>2018-10-15 09:36:00</td>\n",
       "      <td>android</td>\n",
       "      <td>783457</td>\n",
       "      <td>88320</td>\n",
       "      <td>32970</td>\n",
       "      <td>54685</td>\n",
       "      <td>16</td>\n",
       "      <td>56</td>\n",
       "      <td>253</td>\n",
       "      <td>3184</td>\n",
       "    </tr>\n",
       "    <tr>\n",
       "      <th>2</th>\n",
       "      <td>2018-10-15 10:59:00</td>\n",
       "      <td>android</td>\n",
       "      <td>6902</td>\n",
       "      <td>1711</td>\n",
       "      <td>32970</td>\n",
       "      <td>54685</td>\n",
       "      <td>16</td>\n",
       "      <td>56</td>\n",
       "      <td>253</td>\n",
       "      <td>3184</td>\n",
       "    </tr>\n",
       "    <tr>\n",
       "      <th>3</th>\n",
       "      <td>2018-10-15 11:31:00</td>\n",
       "      <td>android</td>\n",
       "      <td>61138</td>\n",
       "      <td>58906</td>\n",
       "      <td>32970</td>\n",
       "      <td>54685</td>\n",
       "      <td>16</td>\n",
       "      <td>56</td>\n",
       "      <td>253</td>\n",
       "      <td>3184</td>\n",
       "    </tr>\n",
       "    <tr>\n",
       "      <th>4</th>\n",
       "      <td>2018-10-15 12:03:00</td>\n",
       "      <td>android</td>\n",
       "      <td>441653</td>\n",
       "      <td>64221</td>\n",
       "      <td>32970</td>\n",
       "      <td>54685</td>\n",
       "      <td>16</td>\n",
       "      <td>56</td>\n",
       "      <td>253</td>\n",
       "      <td>3184</td>\n",
       "    </tr>\n",
       "  </tbody>\n",
       "</table>\n",
       "</div>"
      ],
      "text/plain": [
       "          server_time device_type  session_id  user_id  item_id  item_price  \\\n",
       "0 2018-10-15 08:58:00     android      112333     4557    32970       54685   \n",
       "1 2018-10-15 09:36:00     android      783457    88320    32970       54685   \n",
       "2 2018-10-15 10:59:00     android        6902     1711    32970       54685   \n",
       "3 2018-10-15 11:31:00     android       61138    58906    32970       54685   \n",
       "4 2018-10-15 12:03:00     android      441653    64221    32970       54685   \n",
       "\n",
       "   category_1  category_2  category_3  product_type  \n",
       "0          16          56         253          3184  \n",
       "1          16          56         253          3184  \n",
       "2          16          56         253          3184  \n",
       "3          16          56         253          3184  \n",
       "4          16          56         253          3184  "
      ]
     },
     "execution_count": 39,
     "metadata": {},
     "output_type": "execute_result"
    }
   ],
   "source": [
    "# Merging items and view_logs\n",
    "user_details = pd.merge(view_log_df, item_df, how='inner', on='item_id')\n",
    "user_details.head()"
   ]
  },
  {
   "cell_type": "code",
   "execution_count": 40,
   "metadata": {},
   "outputs": [
    {
     "name": "stdout",
     "output_type": "stream",
     "text": [
      "<class 'pandas.core.frame.DataFrame'>\n",
      "Int64Index: 3116840 entries, 0 to 3116839\n",
      "Data columns (total 10 columns):\n",
      "server_time     datetime64[ns]\n",
      "device_type     category\n",
      "session_id      int64\n",
      "user_id         int64\n",
      "item_id         int64\n",
      "item_price      int64\n",
      "category_1      int64\n",
      "category_2      int64\n",
      "category_3      int64\n",
      "product_type    int64\n",
      "dtypes: category(1), datetime64[ns](1), int64(8)\n",
      "memory usage: 240.8 MB\n"
     ]
    }
   ],
   "source": [
    "user_details.info()"
   ]
  },
  {
   "cell_type": "code",
   "execution_count": 38,
   "metadata": {},
   "outputs": [
    {
     "data": {
      "text/plain": [
       "(3116840, 10)"
      ]
     },
     "execution_count": 38,
     "metadata": {},
     "output_type": "execute_result"
    }
   ],
   "source": [
    "pd.merge(view_log_df, item_df, how='inner', on='item_id').shape"
   ]
  },
  {
   "cell_type": "code",
   "execution_count": 10,
   "metadata": {},
   "outputs": [
    {
     "data": {
      "text/html": [
       "<div>\n",
       "<style scoped>\n",
       "    .dataframe tbody tr th:only-of-type {\n",
       "        vertical-align: middle;\n",
       "    }\n",
       "\n",
       "    .dataframe tbody tr th {\n",
       "        vertical-align: top;\n",
       "    }\n",
       "\n",
       "    .dataframe thead th {\n",
       "        text-align: right;\n",
       "    }\n",
       "</style>\n",
       "<table border=\"1\" class=\"dataframe\">\n",
       "  <thead>\n",
       "    <tr style=\"text-align: right;\">\n",
       "      <th></th>\n",
       "      <th>items</th>\n",
       "    </tr>\n",
       "    <tr>\n",
       "      <th>user_id</th>\n",
       "      <th></th>\n",
       "    </tr>\n",
       "  </thead>\n",
       "  <tbody>\n",
       "    <tr>\n",
       "      <th>0</th>\n",
       "      <td>18</td>\n",
       "    </tr>\n",
       "    <tr>\n",
       "      <th>1</th>\n",
       "      <td>8</td>\n",
       "    </tr>\n",
       "    <tr>\n",
       "      <th>2</th>\n",
       "      <td>130</td>\n",
       "    </tr>\n",
       "    <tr>\n",
       "      <th>3</th>\n",
       "      <td>3</td>\n",
       "    </tr>\n",
       "    <tr>\n",
       "      <th>4</th>\n",
       "      <td>2</td>\n",
       "    </tr>\n",
       "  </tbody>\n",
       "</table>\n",
       "</div>"
      ],
      "text/plain": [
       "         items\n",
       "user_id       \n",
       "0           18\n",
       "1            8\n",
       "2          130\n",
       "3            3\n",
       "4            2"
      ]
     },
     "execution_count": 10,
     "metadata": {},
     "output_type": "execute_result"
    }
   ],
   "source": [
    "user_habbit = view_log_df[['user_id', 'item_id']]\n",
    "user_habbit = user_habbit.drop_duplicates()\n",
    "user_habbit = user_habbit.groupby('user_id').count()\n",
    "user_habbit.columns = ['items']\n",
    "user_habbit.head()"
   ]
  },
  {
   "cell_type": "code",
   "execution_count": 11,
   "metadata": {},
   "outputs": [
    {
     "ename": "NameError",
     "evalue": "name 'interested_items' is not defined",
     "output_type": "error",
     "traceback": [
      "\u001b[0;31m---------------------------------------------------------------------------\u001b[0m",
      "\u001b[0;31mNameError\u001b[0m                                 Traceback (most recent call last)",
      "\u001b[0;32m<ipython-input-11-7249ce13f981>\u001b[0m in \u001b[0;36m<module>\u001b[0;34m\u001b[0m\n\u001b[1;32m      8\u001b[0m     \u001b[0;32melse\u001b[0m\u001b[0;34m:\u001b[0m\u001b[0;34m\u001b[0m\u001b[0;34m\u001b[0m\u001b[0m\n\u001b[1;32m      9\u001b[0m         \u001b[0;32mreturn\u001b[0m \u001b[0;36m3\u001b[0m\u001b[0;34m\u001b[0m\u001b[0;34m\u001b[0m\u001b[0m\n\u001b[0;32m---> 10\u001b[0;31m \u001b[0minterested_items\u001b[0m\u001b[0;34m[\u001b[0m\u001b[0;34m'level'\u001b[0m\u001b[0;34m]\u001b[0m \u001b[0;34m=\u001b[0m \u001b[0minterested_items\u001b[0m\u001b[0;34m[\u001b[0m\u001b[0;34m'items'\u001b[0m\u001b[0;34m]\u001b[0m\u001b[0;34m.\u001b[0m\u001b[0mapply\u001b[0m\u001b[0;34m(\u001b[0m\u001b[0mget_level\u001b[0m\u001b[0;34m)\u001b[0m\u001b[0;34m\u001b[0m\u001b[0;34m\u001b[0m\u001b[0m\n\u001b[0m\u001b[1;32m     11\u001b[0m \u001b[0minterested_items\u001b[0m\u001b[0;34m.\u001b[0m\u001b[0mhead\u001b[0m\u001b[0;34m(\u001b[0m\u001b[0;34m)\u001b[0m\u001b[0;34m\u001b[0m\u001b[0;34m\u001b[0m\u001b[0m\n",
      "\u001b[0;31mNameError\u001b[0m: name 'interested_items' is not defined"
     ]
    }
   ],
   "source": [
    "def get_level(count):\n",
    "    if count <= 4:\n",
    "        return 0\n",
    "    elif count <= 11:\n",
    "        return 1\n",
    "    elif count <= 27:\n",
    "        return 2\n",
    "    else:\n",
    "        return 3\n",
    "interested_items['level'] = interested_items['items'].apply(get_level)\n",
    "interested_items.head()"
   ]
  },
  {
   "cell_type": "markdown",
   "metadata": {},
   "source": [
    "## Feature Engineering"
   ]
  },
  {
   "cell_type": "code",
   "execution_count": null,
   "metadata": {},
   "outputs": [],
   "source": [
    "os_version_map = {'old': 0, 'latest': 1, 'intermediate': 2}\n",
    "def extract_features(dataframe):\n",
    "    dataframe['user_habbit'] = interested_items.loc[dataframe.user_id, 'items'].values\n",
    "    dataframe['os_version_int'] = dataframe['os_version'].replace(os_version_map)\n",
    "    return dataframe[['user_habbit','app_code','os_version_int','is_4G']].values"
   ]
  },
  {
   "cell_type": "code",
   "execution_count": null,
   "metadata": {},
   "outputs": [],
   "source": [
    "# Reading Training Data\n",
    "training_df = pd.read_csv('data/train/train.csv', index_col='impression_id', parse_dates=['impression_time'])\n",
    "X = extract_features(training_df)\n",
    "y = training_df['is_click'].values\n",
    "training_df.head()"
   ]
  },
  {
   "cell_type": "code",
   "execution_count": null,
   "metadata": {},
   "outputs": [],
   "source": [
    "# Reading Testing Data\n",
    "testing_df = pd.read_csv('data/train/train.csv', index_col='impression_id', parse_dates=['impression_time'])\n",
    "X_future = extract_features(testing_df)\n",
    "y_future_ids = testing_df.index.values\n",
    "testing_df.head()"
   ]
  },
  {
   "cell_type": "markdown",
   "metadata": {},
   "source": [
    " "
   ]
  },
  {
   "cell_type": "markdown",
   "metadata": {},
   "source": [
    " "
   ]
  },
  {
   "cell_type": "markdown",
   "metadata": {},
   "source": [
    "## Trying LightGBM"
   ]
  },
  {
   "cell_type": "code",
   "execution_count": null,
   "metadata": {},
   "outputs": [],
   "source": [
    "def tunned_light_gbm(X_train, y_train):\n",
    "    lgb = LGBMClassifier(eval_metric = 'auc',random_state=2019)\n",
    "    params = {\n",
    "        'num_leaves': [35],\n",
    "        'max_depth': [5,10,15]\n",
    "    }\n",
    "    lgb_grid = GridSearchCV(lgb, params, cv=5, scoring='roc_auc')\n",
    "    lgb_grid.fit(X_train, y_train)\n",
    "    print('best_estimator', lgb_grid.best_estimator_)\n",
    "    print('best_score', lgb_grid.best_score_)\n",
    "    return lgb_grid.best_estimator_\n",
    "\n",
    "flow(X, y, tunned_light_gbm, X_future, y_future_ids)"
   ]
  }
 ],
 "metadata": {
  "kernelspec": {
   "display_name": "Python 3",
   "language": "python",
   "name": "python3"
  },
  "language_info": {
   "codemirror_mode": {
    "name": "ipython",
    "version": 3
   },
   "file_extension": ".py",
   "mimetype": "text/x-python",
   "name": "python",
   "nbconvert_exporter": "python",
   "pygments_lexer": "ipython3",
   "version": "3.7.4"
  }
 },
 "nbformat": 4,
 "nbformat_minor": 2
}
