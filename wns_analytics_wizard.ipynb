{
 "cells": [
  {
   "cell_type": "markdown",
   "metadata": {},
   "source": [
    "# WNS Analytics Wizard"
   ]
  },
  {
   "cell_type": "markdown",
   "metadata": {},
   "source": [
    "Importing libraries"
   ]
  },
  {
   "cell_type": "code",
   "execution_count": 26,
   "metadata": {},
   "outputs": [],
   "source": [
    "import numpy as np\n",
    "import pandas as pd\n",
    "from lightgbm import LGBMClassifier\n",
    "from sklearn.model_selection import train_test_split\n",
    "from sklearn.model_selection import GridSearchCV\n",
    "from sklearn.metrics import confusion_matrix\n",
    "from sklearn.metrics import roc_auc_score, roc_curve\n",
    "from sklearn.metrics import accuracy_score, f1_score, recall_score, precision_score\n",
    "import matplotlib.pyplot as plt\n",
    "\n",
    "import warnings\n",
    "warnings.filterwarnings('ignore')"
   ]
  },
  {
   "cell_type": "markdown",
   "metadata": {},
   "source": [
    "Creating useful functions"
   ]
  },
  {
   "cell_type": "code",
   "execution_count": 2,
   "metadata": {},
   "outputs": [],
   "source": [
    "def evaluate(actual, predicted, predicted_probability):\n",
    "    print(\"Confusion Matrix\")\n",
    "    print(pd.DataFrame(confusion_matrix(actual, predicted)))\n",
    "    print(\"\")\n",
    "    print(\"For Class 1\")\n",
    "    print(\"f1 Score :\", f1_score(actual, predicted))\n",
    "    print(\"Precision Score :\",precision_score(actual, predicted))\n",
    "    print(\"Recall Score :\",recall_score(actual, predicted))\n",
    "    print(\"\")\n",
    "    print(\"For Class 0\")\n",
    "    print(\"f1 Score :\", f1_score(1-np.array(actual), 1-np.array(predicted)))\n",
    "    print(\"Precision Score :\",precision_score(1-np.array(actual), 1-np.array(predicted)))\n",
    "    print(\"Recall Score :\",recall_score(1-np.array(actual), 1-np.array(predicted)))\n",
    "    print(\"\")\n",
    "    print(\"AUROC :\",  roc_auc_score(actual, predicted_probability[:,1]))"
   ]
  },
  {
   "cell_type": "code",
   "execution_count": 3,
   "metadata": {},
   "outputs": [],
   "source": [
    "def plot_roc(y_test, y_pred):\n",
    "    fpr, tpr, thresholds = roc_curve(y_test, y_pred)\n",
    "    _ = plt.title('ROC')\n",
    "    _ = plt.plot(fpr, tpr, 'b', alpha=0.2)\n",
    "#     _ = plt.plot([0, 1], [0, 1],'r--', alpha=0.2)\n",
    "    _ = plt.xlim([0, 1])\n",
    "    _ = plt.ylim([0, 1])\n",
    "    _ = plt.ylabel('True Positive Rate')\n",
    "    _ = plt.xlabel('False Positive Rate')\n",
    "    plt.show()"
   ]
  },
  {
   "cell_type": "code",
   "execution_count": 4,
   "metadata": {},
   "outputs": [],
   "source": [
    "def generate_submission(impression_ids, is_clicks, method_name):\n",
    "    submission_frame = pd.DataFrame(is_clicks, index=impression_ids)\n",
    "    submission_frame.columns = ['is_click']\n",
    "    submission_frame.index.name = 'impression_id'\n",
    "    print(submission_frame.head())\n",
    "    submission_frame.to_csv('data/test/'+method_name+'.csv')"
   ]
  },
  {
   "cell_type": "code",
   "execution_count": 27,
   "metadata": {},
   "outputs": [],
   "source": [
    "def flow(X, y, training_func, X_future, y_future_ids):\n",
    "    X_train, X_test, y_train, y_test = train_test_split(X, y, random_state=2019)\n",
    "    \n",
    "    model = training_func(X_train, y_train)\n",
    "    \n",
    "    y_pred = model.predict(X_test)\n",
    "    y_pred_prob = model.predict_proba(X_test)\n",
    "    evaluate(y_test, y_pred, y_pred_prob)\n",
    "    plot_roc(y_test, y_pred)\n",
    "    \n",
    "    y_future_pred = model.predict(X_future)\n",
    "    generate_submission(y_future_ids, y_future_pred, training_func.__name__)\n",
    "    "
   ]
  },
  {
   "cell_type": "markdown",
   "metadata": {},
   "source": [
    " "
   ]
  },
  {
   "cell_type": "markdown",
   "metadata": {},
   "source": [
    " "
   ]
  },
  {
   "cell_type": "markdown",
   "metadata": {},
   "source": [
    "## Data Wrangling User details"
   ]
  },
  {
   "cell_type": "code",
   "execution_count": 8,
   "metadata": {},
   "outputs": [
    {
     "data": {
      "text/html": [
       "<div>\n",
       "<style scoped>\n",
       "    .dataframe tbody tr th:only-of-type {\n",
       "        vertical-align: middle;\n",
       "    }\n",
       "\n",
       "    .dataframe tbody tr th {\n",
       "        vertical-align: top;\n",
       "    }\n",
       "\n",
       "    .dataframe thead th {\n",
       "        text-align: right;\n",
       "    }\n",
       "</style>\n",
       "<table border=\"1\" class=\"dataframe\">\n",
       "  <thead>\n",
       "    <tr style=\"text-align: right;\">\n",
       "      <th></th>\n",
       "      <th>max_price</th>\n",
       "      <th>min_price</th>\n",
       "      <th>total_items</th>\n",
       "      <th>total_unique_items</th>\n",
       "      <th>total_sessions</th>\n",
       "      <th>freq_product_type</th>\n",
       "      <th>freq_category_1</th>\n",
       "      <th>freq_category_2</th>\n",
       "      <th>freq_category_3</th>\n",
       "      <th>freq_device</th>\n",
       "    </tr>\n",
       "    <tr>\n",
       "      <th>user_id</th>\n",
       "      <th></th>\n",
       "      <th></th>\n",
       "      <th></th>\n",
       "      <th></th>\n",
       "      <th></th>\n",
       "      <th></th>\n",
       "      <th></th>\n",
       "      <th></th>\n",
       "      <th></th>\n",
       "      <th></th>\n",
       "    </tr>\n",
       "  </thead>\n",
       "  <tbody>\n",
       "    <tr>\n",
       "      <th>0</th>\n",
       "      <td>92160</td>\n",
       "      <td>332</td>\n",
       "      <td>42</td>\n",
       "      <td>18</td>\n",
       "      <td>11</td>\n",
       "      <td>7363</td>\n",
       "      <td>14</td>\n",
       "      <td>29</td>\n",
       "      <td>199</td>\n",
       "      <td>0</td>\n",
       "    </tr>\n",
       "    <tr>\n",
       "      <th>1</th>\n",
       "      <td>12595</td>\n",
       "      <td>383</td>\n",
       "      <td>8</td>\n",
       "      <td>8</td>\n",
       "      <td>3</td>\n",
       "      <td>7391</td>\n",
       "      <td>11</td>\n",
       "      <td>76</td>\n",
       "      <td>147</td>\n",
       "      <td>0</td>\n",
       "    </tr>\n",
       "    <tr>\n",
       "      <th>2</th>\n",
       "      <td>281536</td>\n",
       "      <td>128</td>\n",
       "      <td>165</td>\n",
       "      <td>130</td>\n",
       "      <td>37</td>\n",
       "      <td>8127</td>\n",
       "      <td>1</td>\n",
       "      <td>42</td>\n",
       "      <td>279</td>\n",
       "      <td>0</td>\n",
       "    </tr>\n",
       "    <tr>\n",
       "      <th>3</th>\n",
       "      <td>16640</td>\n",
       "      <td>537</td>\n",
       "      <td>8</td>\n",
       "      <td>3</td>\n",
       "      <td>1</td>\n",
       "      <td>6659</td>\n",
       "      <td>14</td>\n",
       "      <td>62</td>\n",
       "      <td>157</td>\n",
       "      <td>0</td>\n",
       "    </tr>\n",
       "    <tr>\n",
       "      <th>4</th>\n",
       "      <td>58252</td>\n",
       "      <td>1977</td>\n",
       "      <td>2</td>\n",
       "      <td>2</td>\n",
       "      <td>1</td>\n",
       "      <td>4426</td>\n",
       "      <td>14</td>\n",
       "      <td>3</td>\n",
       "      <td>27</td>\n",
       "      <td>0</td>\n",
       "    </tr>\n",
       "  </tbody>\n",
       "</table>\n",
       "</div>"
      ],
      "text/plain": [
       "         max_price  min_price  total_items  total_unique_items  \\\n",
       "user_id                                                          \n",
       "0            92160        332           42                  18   \n",
       "1            12595        383            8                   8   \n",
       "2           281536        128          165                 130   \n",
       "3            16640        537            8                   3   \n",
       "4            58252       1977            2                   2   \n",
       "\n",
       "         total_sessions  freq_product_type  freq_category_1  freq_category_2  \\\n",
       "user_id                                                                        \n",
       "0                    11               7363               14               29   \n",
       "1                     3               7391               11               76   \n",
       "2                    37               8127                1               42   \n",
       "3                     1               6659               14               62   \n",
       "4                     1               4426               14                3   \n",
       "\n",
       "         freq_category_3  freq_device  \n",
       "user_id                                \n",
       "0                    199            0  \n",
       "1                    147            0  \n",
       "2                    279            0  \n",
       "3                    157            0  \n",
       "4                     27            0  "
      ]
     },
     "execution_count": 8,
     "metadata": {},
     "output_type": "execute_result"
    }
   ],
   "source": [
    "# Read Items\n",
    "user_details = pd.read_csv('data/train/user_details.csv', index_col='user_id')\n",
    "user_details.head()"
   ]
  },
  {
   "cell_type": "code",
   "execution_count": null,
   "metadata": {},
   "outputs": [],
   "source": []
  },
  {
   "cell_type": "markdown",
   "metadata": {},
   "source": [
    "## Feature Engineering"
   ]
  },
  {
   "cell_type": "code",
   "execution_count": 29,
   "metadata": {},
   "outputs": [],
   "source": [
    "feature_cols = ['max_price', 'min_price', 'total_items', 'total_unique_items', 'total_sessions', \n",
    "                'freq_product_type', 'freq_device', 'app_code', 'os_version_int', 'is_4G','user_id']\n",
    "categorical_feature = [5, 6, 7, 8, 9, 10]\n",
    "os_version_map = {'old':0,'intermediate':1,'latest':2}"
   ]
  },
  {
   "cell_type": "code",
   "execution_count": 30,
   "metadata": {},
   "outputs": [],
   "source": [
    "def extract_features(dataframe):\n",
    "    sub_dataframe = dataframe[['user_id','app_code','os_version','is_4G']]\n",
    "    sub_dataframe['os_version_int'] = sub_dataframe['os_version'].replace(os_version_map)\n",
    "    merged_dataframe = pd.merge(sub_dataframe, user_details, how='left', on='user_id')\n",
    "    return merged_dataframe[feature_cols].values"
   ]
  },
  {
   "cell_type": "code",
   "execution_count": 31,
   "metadata": {},
   "outputs": [
    {
     "data": {
      "text/plain": [
       "array([[2.3500e+03, 2.3500e+03, 1.0000e+00, 1.0000e+00, 1.0000e+00,\n",
       "        5.6220e+03, 0.0000e+00, 4.2200e+02, 0.0000e+00, 0.0000e+00,\n",
       "        8.7862e+04]])"
      ]
     },
     "execution_count": 31,
     "metadata": {},
     "output_type": "execute_result"
    }
   ],
   "source": [
    "# Reading Training Data\n",
    "training_df = pd.read_csv('data/train/train.csv', index_col='impression_id', parse_dates=['impression_time'])\n",
    "X = extract_features(training_df)\n",
    "y = training_df['is_click'].values\n",
    "X[:1]"
   ]
  },
  {
   "cell_type": "code",
   "execution_count": 32,
   "metadata": {},
   "outputs": [
    {
     "data": {
      "text/plain": [
       "array([[2.3424e+04, 2.3424e+04, 1.0000e+00, 1.0000e+00, 1.0000e+00,\n",
       "        1.6170e+03, 0.0000e+00, 1.2700e+02, 2.0000e+00, 1.0000e+00,\n",
       "        4.4754e+04]])"
      ]
     },
     "execution_count": 32,
     "metadata": {},
     "output_type": "execute_result"
    }
   ],
   "source": [
    "# Reading Testing Data\n",
    "testing_df = pd.read_csv('data/test/test.csv', index_col='impression_id', parse_dates=['impression_time'])\n",
    "X_future = extract_features(testing_df)\n",
    "y_future_ids = testing_df.index.values\n",
    "X_future[:1]"
   ]
  },
  {
   "cell_type": "markdown",
   "metadata": {},
   "source": [
    " "
   ]
  },
  {
   "cell_type": "markdown",
   "metadata": {},
   "source": [
    " "
   ]
  },
  {
   "cell_type": "markdown",
   "metadata": {},
   "source": [
    "## Trying LightGBM"
   ]
  },
  {
   "cell_type": "code",
   "execution_count": 34,
   "metadata": {},
   "outputs": [
    {
     "name": "stdout",
     "output_type": "stream",
     "text": [
      "best_estimator LGBMClassifier(boosting_type='gbdt', class_weight=None, colsample_bytree=1.0,\n",
      "               eval_metric='auc', importance_type='split', learning_rate=0.1,\n",
      "               max_depth=5, min_child_samples=20, min_child_weight=0.001,\n",
      "               min_split_gain=0.0, n_estimators=100, n_jobs=-1, num_leaves=31,\n",
      "               objective=None, random_state=2019, reg_alpha=0.0, reg_lambda=0.0,\n",
      "               silent=True, subsample=1.0, subsample_for_bin=200000,\n",
      "               subsample_freq=0)\n",
      "best_score 0.72625803399519\n",
      "Confusion Matrix\n",
      "       0   1\n",
      "0  56611   8\n",
      "1   2773  11\n",
      "\n",
      "For Class 1\n",
      "f1 Score : 0.00784873349982162\n",
      "Precision Score : 0.5789473684210527\n",
      "Recall Score : 0.003951149425287357\n",
      "\n",
      "For Class 0\n",
      "f1 Score : 0.9760264820737394\n",
      "Precision Score : 0.9533039202478782\n",
      "Recall Score : 0.9998587046751091\n",
      "\n",
      "AUROC : 0.7214924945486599\n"
     ]
    },
    {
     "data": {
      "image/png": "[encoded data removed]",
      "text/plain": [
       "<Figure size 432x288 with 1 Axes>"
      ]
     },
     "metadata": {
      "needs_background": "light"
     },
     "output_type": "display_data"
    },
    {
     "name": "stdout",
     "output_type": "stream",
     "text": [
      "                                  is_click\n",
      "impression_id                             \n",
      "a9e7126a585a69a32bc7414e9d0c0ada         0\n",
      "caac14a5bf2ba283db7708bb34855760         0\n",
      "13f10ba306a19ce7bec2f3cae507b698         0\n",
      "39c4b4dc0e9701b55a0a4f072008fb3f         0\n",
      "bf5a572cca75f5fc67f4b14e58b11d70         0\n"
     ]
    }
   ],
   "source": [
    "def tunned_light_gbm_cat(X_train, y_train):\n",
    "    lgb = LGBMClassifier(eval_metric = 'auc',random_state=2019)\n",
    "    params = {\n",
    "        'max_depth': [5, 10, 15],\n",
    "        'learning_rate': [0.1, 0.5, 1.0]\n",
    "    }\n",
    "    lgb_grid = GridSearchCV(lgb, params, cv=10, scoring='roc_auc')\n",
    "    lgb_grid.fit(X_train, y_train, categorical_feature=categorical_feature)\n",
    "    print('best_estimator', lgb_grid.best_estimator_)\n",
    "    print('best_score', lgb_grid.best_score_)\n",
    "    return lgb_grid.best_estimator_\n",
    "\n",
    "flow(X, y, tunned_light_gbm_cat, X_future, y_future_ids)"
   ]
  }
 ],
 "metadata": {
  "kernelspec": {
   "display_name": "Python 3",
   "language": "python",
   "name": "python3"
  },
  "language_info": {
   "codemirror_mode": {
    "name": "ipython",
    "version": 3
   },
   "file_extension": ".py",
   "mimetype": "text/x-python",
   "name": "python",
   "nbconvert_exporter": "python",
   "pygments_lexer": "ipython3",
   "version": "3.7.4"
  }
 },
 "nbformat": 4,
 "nbformat_minor": 2
}
